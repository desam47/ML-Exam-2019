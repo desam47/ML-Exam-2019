{
 "cells": [
  {
   "cell_type": "code",
   "execution_count": 96,
   "metadata": {},
   "outputs": [],
   "source": [
    "rm(list =ls())"
   ]
  },
  {
   "cell_type": "code",
   "execution_count": 97,
   "metadata": {},
   "outputs": [],
   "source": [
    "library(neuralnet)\n",
    "library(ggplot2)\n",
    "library(nnet)\n",
    "library(dplyr)\n",
    "library(reshape2)"
   ]
  },
  {
   "cell_type": "code",
   "execution_count": 98,
   "metadata": {},
   "outputs": [],
   "source": [
    "library(caret)"
   ]
  },
  {
   "cell_type": "code",
   "execution_count": 99,
   "metadata": {},
   "outputs": [],
   "source": [
    "df<- read.csv(file = \"C:/q4.csv\",header = TRUE,sep = \",\")"
   ]
  },
  {
   "cell_type": "code",
   "execution_count": 100,
   "metadata": {},
   "outputs": [],
   "source": [
    "newRow <- data.frame(x=5,y=9,Class='unowned')"
   ]
  },
  {
   "cell_type": "code",
   "execution_count": 101,
   "metadata": {},
   "outputs": [],
   "source": [
    "df <- rbind(df,newRow)"
   ]
  },
  {
   "cell_type": "code",
   "execution_count": 102,
   "metadata": {},
   "outputs": [],
   "source": [
    "newRow1 <- data.frame(x=5,y=10,Class='unowned')"
   ]
  },
  {
   "cell_type": "code",
   "execution_count": 103,
   "metadata": {},
   "outputs": [],
   "source": [
    "df <- rbind(df,newRow1)"
   ]
  },
  {
   "cell_type": "code",
   "execution_count": 104,
   "metadata": {},
   "outputs": [
    {
     "data": {
      "text/html": [
       "<table>\n",
       "<thead><tr><th scope=col>x</th><th scope=col>y</th><th scope=col>Class</th></tr></thead>\n",
       "<tbody>\n",
       "\t<tr><td>10.5   </td><td> 5.0   </td><td>unowned</td></tr>\n",
       "\t<tr><td> 7.5   </td><td> 6.0   </td><td>unowned</td></tr>\n",
       "\t<tr><td> 2.0   </td><td> 5.0   </td><td>owned  </td></tr>\n",
       "\t<tr><td> 3.0   </td><td> 4.0   </td><td>unowned</td></tr>\n",
       "\t<tr><td> 3.5   </td><td> 8.0   </td><td>owned  </td></tr>\n",
       "\t<tr><td> 6.5   </td><td> 6.5   </td><td>owned  </td></tr>\n",
       "\t<tr><td> 1.5   </td><td> 6.0   </td><td>owned  </td></tr>\n",
       "\t<tr><td> 6.5   </td><td> 8.0   </td><td>owned  </td></tr>\n",
       "\t<tr><td> 8.0   </td><td> 4.0   </td><td>unowned</td></tr>\n",
       "\t<tr><td>10.5   </td><td> 9.0   </td><td>owned  </td></tr>\n",
       "\t<tr><td> 5.0   </td><td> 9.0   </td><td>unowned</td></tr>\n",
       "\t<tr><td> 5.0   </td><td>10.0   </td><td>unowned</td></tr>\n",
       "</tbody>\n",
       "</table>\n"
      ],
      "text/latex": [
       "\\begin{tabular}{r|lll}\n",
       " x & y & Class\\\\\n",
       "\\hline\n",
       "\t 10.5    &  5.0    & unowned\\\\\n",
       "\t  7.5    &  6.0    & unowned\\\\\n",
       "\t  2.0    &  5.0    & owned  \\\\\n",
       "\t  3.0    &  4.0    & unowned\\\\\n",
       "\t  3.5    &  8.0    & owned  \\\\\n",
       "\t  6.5    &  6.5    & owned  \\\\\n",
       "\t  1.5    &  6.0    & owned  \\\\\n",
       "\t  6.5    &  8.0    & owned  \\\\\n",
       "\t  8.0    &  4.0    & unowned\\\\\n",
       "\t 10.5    &  9.0    & owned  \\\\\n",
       "\t  5.0    &  9.0    & unowned\\\\\n",
       "\t  5.0    & 10.0    & unowned\\\\\n",
       "\\end{tabular}\n"
      ],
      "text/markdown": [
       "\n",
       "x | y | Class | \n",
       "|---|---|---|---|---|---|---|---|---|---|---|---|\n",
       "| 10.5    |  5.0    | unowned | \n",
       "|  7.5    |  6.0    | unowned | \n",
       "|  2.0    |  5.0    | owned   | \n",
       "|  3.0    |  4.0    | unowned | \n",
       "|  3.5    |  8.0    | owned   | \n",
       "|  6.5    |  6.5    | owned   | \n",
       "|  1.5    |  6.0    | owned   | \n",
       "|  6.5    |  8.0    | owned   | \n",
       "|  8.0    |  4.0    | unowned | \n",
       "| 10.5    |  9.0    | owned   | \n",
       "|  5.0    |  9.0    | unowned | \n",
       "|  5.0    | 10.0    | unowned | \n",
       "\n",
       "\n"
      ],
      "text/plain": [
       "   x    y    Class  \n",
       "1  10.5  5.0 unowned\n",
       "2   7.5  6.0 unowned\n",
       "3   2.0  5.0 owned  \n",
       "4   3.0  4.0 unowned\n",
       "5   3.5  8.0 owned  \n",
       "6   6.5  6.5 owned  \n",
       "7   1.5  6.0 owned  \n",
       "8   6.5  8.0 owned  \n",
       "9   8.0  4.0 unowned\n",
       "10 10.5  9.0 owned  \n",
       "11  5.0  9.0 unowned\n",
       "12  5.0 10.0 unowned"
      ]
     },
     "metadata": {},
     "output_type": "display_data"
    }
   ],
   "source": [
    "df"
   ]
  },
  {
   "cell_type": "code",
   "execution_count": 105,
   "metadata": {},
   "outputs": [],
   "source": [
    "labels <- class.ind(as.factor(df$Class))"
   ]
  },
  {
   "cell_type": "code",
   "execution_count": 106,
   "metadata": {},
   "outputs": [],
   "source": [
    "f <- as.formula(\"unowned + owned ~ x + y\")"
   ]
  },
  {
   "cell_type": "code",
   "execution_count": 107,
   "metadata": {},
   "outputs": [],
   "source": [
    "standardiser <- function(x){\n",
    "  (x-min(x))/(max(x)-min(x))\n",
    "}"
   ]
  },
  {
   "cell_type": "code",
   "execution_count": 108,
   "metadata": {},
   "outputs": [],
   "source": [
    "df[, 1:2] <- lapply(df[, 1:2], standardiser)"
   ]
  },
  {
   "cell_type": "code",
   "execution_count": 109,
   "metadata": {},
   "outputs": [],
   "source": [
    "pre_process_iris <- cbind(df[,1:2], labels)"
   ]
  },
  {
   "cell_type": "code",
   "execution_count": 110,
   "metadata": {},
   "outputs": [
    {
     "data": {
      "text/html": [
       "<table>\n",
       "<thead><tr><th scope=col>x</th><th scope=col>y</th><th scope=col>owned</th><th scope=col>unowned</th></tr></thead>\n",
       "<tbody>\n",
       "\t<tr><td>1.00000000</td><td>0.1666667 </td><td>0         </td><td>1         </td></tr>\n",
       "\t<tr><td>0.66666667</td><td>0.3333333 </td><td>0         </td><td>1         </td></tr>\n",
       "\t<tr><td>0.05555556</td><td>0.1666667 </td><td>1         </td><td>0         </td></tr>\n",
       "\t<tr><td>0.16666667</td><td>0.0000000 </td><td>0         </td><td>1         </td></tr>\n",
       "\t<tr><td>0.22222222</td><td>0.6666667 </td><td>1         </td><td>0         </td></tr>\n",
       "\t<tr><td>0.55555556</td><td>0.4166667 </td><td>1         </td><td>0         </td></tr>\n",
       "\t<tr><td>0.00000000</td><td>0.3333333 </td><td>1         </td><td>0         </td></tr>\n",
       "\t<tr><td>0.55555556</td><td>0.6666667 </td><td>1         </td><td>0         </td></tr>\n",
       "\t<tr><td>0.72222222</td><td>0.0000000 </td><td>0         </td><td>1         </td></tr>\n",
       "\t<tr><td>1.00000000</td><td>0.8333333 </td><td>1         </td><td>0         </td></tr>\n",
       "\t<tr><td>0.38888889</td><td>0.8333333 </td><td>0         </td><td>1         </td></tr>\n",
       "\t<tr><td>0.38888889</td><td>1.0000000 </td><td>0         </td><td>1         </td></tr>\n",
       "</tbody>\n",
       "</table>\n"
      ],
      "text/latex": [
       "\\begin{tabular}{r|llll}\n",
       " x & y & owned & unowned\\\\\n",
       "\\hline\n",
       "\t 1.00000000 & 0.1666667  & 0          & 1         \\\\\n",
       "\t 0.66666667 & 0.3333333  & 0          & 1         \\\\\n",
       "\t 0.05555556 & 0.1666667  & 1          & 0         \\\\\n",
       "\t 0.16666667 & 0.0000000  & 0          & 1         \\\\\n",
       "\t 0.22222222 & 0.6666667  & 1          & 0         \\\\\n",
       "\t 0.55555556 & 0.4166667  & 1          & 0         \\\\\n",
       "\t 0.00000000 & 0.3333333  & 1          & 0         \\\\\n",
       "\t 0.55555556 & 0.6666667  & 1          & 0         \\\\\n",
       "\t 0.72222222 & 0.0000000  & 0          & 1         \\\\\n",
       "\t 1.00000000 & 0.8333333  & 1          & 0         \\\\\n",
       "\t 0.38888889 & 0.8333333  & 0          & 1         \\\\\n",
       "\t 0.38888889 & 1.0000000  & 0          & 1         \\\\\n",
       "\\end{tabular}\n"
      ],
      "text/markdown": [
       "\n",
       "x | y | owned | unowned | \n",
       "|---|---|---|---|---|---|---|---|---|---|---|---|\n",
       "| 1.00000000 | 0.1666667  | 0          | 1          | \n",
       "| 0.66666667 | 0.3333333  | 0          | 1          | \n",
       "| 0.05555556 | 0.1666667  | 1          | 0          | \n",
       "| 0.16666667 | 0.0000000  | 0          | 1          | \n",
       "| 0.22222222 | 0.6666667  | 1          | 0          | \n",
       "| 0.55555556 | 0.4166667  | 1          | 0          | \n",
       "| 0.00000000 | 0.3333333  | 1          | 0          | \n",
       "| 0.55555556 | 0.6666667  | 1          | 0          | \n",
       "| 0.72222222 | 0.0000000  | 0          | 1          | \n",
       "| 1.00000000 | 0.8333333  | 1          | 0          | \n",
       "| 0.38888889 | 0.8333333  | 0          | 1          | \n",
       "| 0.38888889 | 1.0000000  | 0          | 1          | \n",
       "\n",
       "\n"
      ],
      "text/plain": [
       "   x          y         owned unowned\n",
       "1  1.00000000 0.1666667 0     1      \n",
       "2  0.66666667 0.3333333 0     1      \n",
       "3  0.05555556 0.1666667 1     0      \n",
       "4  0.16666667 0.0000000 0     1      \n",
       "5  0.22222222 0.6666667 1     0      \n",
       "6  0.55555556 0.4166667 1     0      \n",
       "7  0.00000000 0.3333333 1     0      \n",
       "8  0.55555556 0.6666667 1     0      \n",
       "9  0.72222222 0.0000000 0     1      \n",
       "10 1.00000000 0.8333333 1     0      \n",
       "11 0.38888889 0.8333333 0     1      \n",
       "12 0.38888889 1.0000000 0     1      "
      ]
     },
     "metadata": {},
     "output_type": "display_data"
    }
   ],
   "source": [
    "pre_process_iris"
   ]
  },
  {
   "cell_type": "code",
   "execution_count": 111,
   "metadata": {},
   "outputs": [],
   "source": [
    "f <- as.formula(\"unowned + owned ~ x + y\")"
   ]
  },
  {
   "cell_type": "code",
   "execution_count": 112,
   "metadata": {},
   "outputs": [],
   "source": [
    "iris_net <- neuralnet(f, data =  pre_process_iris, hidden = 1, act.fct = \"tanh\", linear.output = FALSE)"
   ]
  },
  {
   "cell_type": "code",
   "execution_count": 113,
   "metadata": {},
   "outputs": [
    {
     "data": {
      "text/html": [
       "<table>\n",
       "<tbody>\n",
       "\t<tr><th scope=row>error</th><td>  2.067347211</td></tr>\n",
       "\t<tr><th scope=row>reached.threshold</th><td>  0.007795613</td></tr>\n",
       "\t<tr><th scope=row>steps</th><td>293.000000000</td></tr>\n",
       "\t<tr><th scope=row>Intercept.to.1layhid1</th><td>  1.926778201</td></tr>\n",
       "\t<tr><th scope=row>x.to.1layhid1</th><td>-23.604573671</td></tr>\n",
       "\t<tr><th scope=row>y.to.1layhid1</th><td>  5.526114363</td></tr>\n",
       "\t<tr><th scope=row>Intercept.to.unowned</th><td>  0.354258325</td></tr>\n",
       "\t<tr><th scope=row>1layhid1.to.unowned</th><td> -0.435383691</td></tr>\n",
       "\t<tr><th scope=row>Intercept.to.owned</th><td>  1.200755199</td></tr>\n",
       "\t<tr><th scope=row>1layhid1.to.owned</th><td>  0.858152697</td></tr>\n",
       "</tbody>\n",
       "</table>\n"
      ],
      "text/latex": [
       "\\begin{tabular}{r|l}\n",
       "\terror &   2.067347211\\\\\n",
       "\treached.threshold &   0.007795613\\\\\n",
       "\tsteps & 293.000000000\\\\\n",
       "\tIntercept.to.1layhid1 &   1.926778201\\\\\n",
       "\tx.to.1layhid1 & -23.604573671\\\\\n",
       "\ty.to.1layhid1 &   5.526114363\\\\\n",
       "\tIntercept.to.unowned &   0.354258325\\\\\n",
       "\t1layhid1.to.unowned &  -0.435383691\\\\\n",
       "\tIntercept.to.owned &   1.200755199\\\\\n",
       "\t1layhid1.to.owned &   0.858152697\\\\\n",
       "\\end{tabular}\n"
      ],
      "text/markdown": [
       "\n",
       "| error |   2.067347211 | \n",
       "| reached.threshold |   0.007795613 | \n",
       "| steps | 293.000000000 | \n",
       "| Intercept.to.1layhid1 |   1.926778201 | \n",
       "| x.to.1layhid1 | -23.604573671 | \n",
       "| y.to.1layhid1 |   5.526114363 | \n",
       "| Intercept.to.unowned |   0.354258325 | \n",
       "| 1layhid1.to.unowned |  -0.435383691 | \n",
       "| Intercept.to.owned |   1.200755199 | \n",
       "| 1layhid1.to.owned |   0.858152697 | \n",
       "\n",
       "\n"
      ],
      "text/plain": [
       "                      [,1]         \n",
       "error                   2.067347211\n",
       "reached.threshold       0.007795613\n",
       "steps                 293.000000000\n",
       "Intercept.to.1layhid1   1.926778201\n",
       "x.to.1layhid1         -23.604573671\n",
       "y.to.1layhid1           5.526114363\n",
       "Intercept.to.unowned    0.354258325\n",
       "1layhid1.to.unowned    -0.435383691\n",
       "Intercept.to.owned      1.200755199\n",
       "1layhid1.to.owned       0.858152697"
      ]
     },
     "metadata": {},
     "output_type": "display_data"
    }
   ],
   "source": [
    "iris_net$result.matrix"
   ]
  },
  {
   "cell_type": "code",
   "execution_count": 118,
   "metadata": {},
   "outputs": [
    {
     "name": "stderr",
     "output_type": "stream",
     "text": [
      "Warning message:\n",
      "\"package 'GGally' was built under R version 3.5.3\"\n",
      "Attaching package: 'GGally'\n",
      "\n",
      "The following object is masked from 'package:dplyr':\n",
      "\n",
      "    nasa\n",
      "\n"
     ]
    }
   ],
   "source": [
    "library(tidyverse)\n",
    "library(neuralnet)\n",
    "library(GGally)"
   ]
  },
  {
   "cell_type": "code",
   "execution_count": 117,
   "metadata": {},
   "outputs": [
    {
     "name": "stderr",
     "output_type": "stream",
     "text": [
      "also installing the dependencies 'prettyunits', 'progress', 'reshape'\n",
      "\n"
     ]
    },
    {
     "name": "stdout",
     "output_type": "stream",
     "text": [
      "package 'prettyunits' successfully unpacked and MD5 sums checked\n",
      "package 'progress' successfully unpacked and MD5 sums checked\n",
      "package 'reshape' successfully unpacked and MD5 sums checked\n",
      "package 'GGally' successfully unpacked and MD5 sums checked\n",
      "\n",
      "The downloaded binary packages are in\n",
      "\tC:\\Users\\Public\\Documents\\Wondershare\\CreatorTemp\\RtmpcRGDR3\\downloaded_packages\n"
     ]
    }
   ],
   "source": [
    "install.packages(\"GGally\",repos = \"http://cran.us.r-project.org\")\n"
   ]
  },
  {
   "cell_type": "code",
   "execution_count": 119,
   "metadata": {},
   "outputs": [
    {
     "data": {
      "image/png": "[encoded data removed]",
      "text/plain": [
       "plot without title"
      ]
     },
     "metadata": {},
     "output_type": "display_data"
    }
   ],
   "source": [
    "plot(iris_net, rep = 'best')"
   ]
  },
  {
   "cell_type": "code",
   "execution_count": 124,
   "metadata": {},
   "outputs": [
    {
     "ename": "ERROR",
     "evalue": "Error in UseMethod(\"compute\"): no applicable method for 'compute' applied to an object of class \"nn\"\n",
     "output_type": "error",
     "traceback": [
      "Error in UseMethod(\"compute\"): no applicable method for 'compute' applied to an object of class \"nn\"\nTraceback:\n",
      "1. compute(iris_net, pre_process_iris[, 1:2])"
     ]
    }
   ],
   "source": [
    "# Compute predictions\n",
    "compute(iris_net, pre_process_iris[, 1:2])"
   ]
  },
  {
   "cell_type": "code",
   "execution_count": null,
   "metadata": {},
   "outputs": [],
   "source": []
  }
 ],
 "metadata": {
  "kernelspec": {
   "display_name": "R",
   "language": "R",
   "name": "ir"
  },
  "language_info": {
   "codemirror_mode": "r",
   "file_extension": ".r",
   "mimetype": "text/x-r-source",
   "name": "R",
   "pygments_lexer": "r",
   "version": "3.5.1"
  }
 },
 "nbformat": 4,
 "nbformat_minor": 2
}
